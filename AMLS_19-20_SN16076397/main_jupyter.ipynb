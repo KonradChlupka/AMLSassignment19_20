{
 "cells": [
  {
   "cell_type": "code",
   "execution_count": 142,
   "metadata": {},
   "outputs": [],
   "source": [
    "import landmarks\n",
    "import sklearn.model_selection\n",
    "import sklearn.metrics\n",
    "import sklearn.svm\n",
    "import pandas as pd\n",
    "import numpy as np\n",
    "import random\n",
    "\n",
    "random.seed(0)"
   ]
  },
  {
   "cell_type": "markdown",
   "metadata": {},
   "source": [
    "# Task A1\n",
    "Gender detection: male or female.\n",
    "\n",
    "Import raw data."
   ]
  },
  {
   "cell_type": "code",
   "execution_count": 145,
   "metadata": {},
   "outputs": [],
   "source": [
    "a1_X_train_raw, a1_y_train_raw = landmarks.extract_features_labels(\"celeba\")\n",
    "a1_X_test_raw, a1_y_test_raw = landmarks.extract_features_labels(\"celeba_test\")"
   ]
  },
  {
   "cell_type": "markdown",
   "metadata": {},
   "source": [
    "Convert raw data into Pandas DataFrames, then split train set into train set and validation set."
   ]
  },
  {
   "cell_type": "code",
   "execution_count": 146,
   "metadata": {},
   "outputs": [],
   "source": [
    "# gender == 0 means female\n",
    "a1_X_labels = np.array([(f\"x_{i}\", f\"y_{i}\") for i in range(68)]).flatten()\n",
    "\n",
    "a1_X_train = pd.DataFrame(data=a1_X_train_raw.reshape(a1_X_train_raw.shape[0], -1), columns=a1_X_labels)\n",
    "a1_y_train = pd.DataFrame(data=a1_y_train_raw, columns=[\"image_name\", \"gender\", \"smiling\"])\n",
    "\n",
    "a1_X_train, a1_X_validation, a1_y_train, a1_y_validation = sklearn.model_selection.train_test_split(a1_X_train, a1_y_train, train_size=0.75)\n",
    "\n",
    "a1_X_test = pd.DataFrame(data=a1_X_test_raw.reshape(a1_X_test_raw.shape[0], -1), columns=a1_X_labels)\n",
    "a1_y_test = pd.DataFrame(data=a1_y_test_raw, columns=[\"image_name\", \"gender\", \"smiling\"])"
   ]
  },
  {
   "cell_type": "markdown",
   "metadata": {},
   "source": [
    "Train and test the model."
   ]
  },
  {
   "cell_type": "code",
   "execution_count": 147,
   "metadata": {},
   "outputs": [
    {
     "data": {
      "text/plain": [
       "0.9182652210175146"
      ]
     },
     "execution_count": 147,
     "metadata": {},
     "output_type": "execute_result"
    }
   ],
   "source": [
    "a1_model = sklearn.svm.SVC(kernel=\"linear\")\n",
    "\n",
    "a1_model.fit(a1_X_train, a1_y_train[\"gender\"])\n",
    "\n",
    "sklearn.metrics.accuracy_score(a1_y_validation[\"gender\"], a1_model.predict(a1_X_validation))"
   ]
  },
  {
   "cell_type": "markdown",
   "metadata": {},
   "source": [
    "# Task A2\n",
    "Emotion detection: smiling or not smiling.\n",
    "\n",
    "Import raw data."
   ]
  },
  {
   "cell_type": "code",
   "execution_count": 149,
   "metadata": {},
   "outputs": [],
   "source": [
    "a2_X_train_raw, a2_y_train_raw = landmarks.extract_features_labels(\"celeba\")\n",
    "a2_X_test_raw, a2_y_test_raw = landmarks.extract_features_labels(\"celeba_test\")"
   ]
  },
  {
   "cell_type": "markdown",
   "metadata": {},
   "source": [
    "Convert raw data into Pandas DataFrames, then split train set into train set and validation set."
   ]
  },
  {
   "cell_type": "code",
   "execution_count": 150,
   "metadata": {},
   "outputs": [],
   "source": [
    "# gender == 0 means female\n",
    "a2_X_labels = np.array([(f\"x_{i}\", f\"y_{i}\") for i in range(68)]).flatten()\n",
    "\n",
    "a2_X_train = pd.DataFrame(data=a2_X_train_raw.reshape(a2_X_train_raw.shape[0], -1), columns=a2_X_labels)\n",
    "a2_y_train = pd.DataFrame(data=a2_y_train_raw, columns=[\"image_name\", \"gender\", \"smiling\"])\n",
    "\n",
    "a2_X_train, a2_X_validation, a2_y_train, a2_y_validation = sklearn.model_selection.train_test_split(a2_X_train, a2_y_train, train_size=0.75)\n",
    "\n",
    "a2_X_test = pd.DataFrame(data=a2_X_test_raw.reshape(a2_X_test_raw.shape[0], -1), columns=a2_X_labels)\n",
    "a2_y_test = pd.DataFrame(data=a2_y_test_raw, columns=[\"image_name\", \"gender\", \"smiling\"])"
   ]
  },
  {
   "cell_type": "markdown",
   "metadata": {},
   "source": [
    "Train and test the model."
   ]
  },
  {
   "cell_type": "code",
   "execution_count": 151,
   "metadata": {},
   "outputs": [
    {
     "data": {
      "text/plain": [
       "0.914095079232694"
      ]
     },
     "execution_count": 151,
     "metadata": {},
     "output_type": "execute_result"
    }
   ],
   "source": [
    "a2_model = sklearn.svm.SVC(kernel=\"linear\")\n",
    "\n",
    "a2_model.fit(a2_X_train, a2_y_train[\"gender\"])\n",
    "\n",
    "sklearn.metrics.accuracy_score(a2_y_validation[\"gender\"], a2_model.predict(a2_X_validation))"
   ]
  },
  {
   "cell_type": "markdown",
   "metadata": {},
   "source": [
    "# Task B1\n",
    "Face shape recognition: 5 types of face shapes"
   ]
  },
  {
   "cell_type": "markdown",
   "metadata": {},
   "source": [
    "# Task B2\n",
    "Eye color recognition: 5 types of eye colors"
   ]
  },
  {
   "cell_type": "markdown",
   "metadata": {},
   "source": [
    "## Print out your results with following format"
   ]
  },
  {
   "cell_type": "code",
   "execution_count": 3,
   "metadata": {
    "collapsed": true
   },
   "outputs": [
    {
     "ename": "NameError",
     "evalue": "name 'acc_A1_train' is not defined",
     "output_type": "error",
     "traceback": [
      "\u001b[0;31m---------------------------------------------------------------------------\u001b[0m",
      "\u001b[0;31mNameError\u001b[0m                                 Traceback (most recent call last)",
      "\u001b[0;32m<ipython-input-3-53855e562748>\u001b[0m in \u001b[0;36m<module>\u001b[0;34m\u001b[0m\n\u001b[1;32m      1\u001b[0m print(\n\u001b[1;32m      2\u001b[0m     \"TA1:{},{};TA2:{},{};TB1:{},{};TB2:{},{};\".format(\n\u001b[0;32m----> 3\u001b[0;31m         \u001b[0macc_A1_train\u001b[0m\u001b[0;34m,\u001b[0m\u001b[0;34m\u001b[0m\u001b[0;34m\u001b[0m\u001b[0m\n\u001b[0m\u001b[1;32m      4\u001b[0m         \u001b[0macc_A1_test\u001b[0m\u001b[0;34m,\u001b[0m\u001b[0;34m\u001b[0m\u001b[0;34m\u001b[0m\u001b[0m\n\u001b[1;32m      5\u001b[0m         \u001b[0macc_A2_train\u001b[0m\u001b[0;34m,\u001b[0m\u001b[0;34m\u001b[0m\u001b[0;34m\u001b[0m\u001b[0m\n",
      "\u001b[0;31mNameError\u001b[0m: name 'acc_A1_train' is not defined"
     ]
    }
   ],
   "source": [
    "print(\n",
    "    \"TA1:{},{};TA2:{},{};TB1:{},{};TB2:{},{};\".format(\n",
    "        acc_A1_train,\n",
    "        acc_A1_test,\n",
    "        acc_A2_train,\n",
    "        acc_A2_test,\n",
    "        acc_B1_train,\n",
    "        acc_B1_test,\n",
    "        acc_B2_train,\n",
    "        acc_B2_test,\n",
    "    )\n",
    ")"
   ]
  },
  {
   "cell_type": "code",
   "execution_count": null,
   "metadata": {},
   "outputs": [],
   "source": []
  }
 ],
 "metadata": {
  "kernelspec": {
   "display_name": "Python 3",
   "language": "python",
   "name": "python3"
  },
  "language_info": {
   "codemirror_mode": {
    "name": "ipython",
    "version": 3
   },
   "file_extension": ".py",
   "mimetype": "text/x-python",
   "name": "python",
   "nbconvert_exporter": "python",
   "pygments_lexer": "ipython3",
   "version": "3.7.6"
  }
 },
 "nbformat": 4,
 "nbformat_minor": 2
}
